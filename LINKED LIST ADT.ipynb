{
 "cells": [
  {
   "cell_type": "markdown",
   "metadata": {},
   "source": [
    "# SINGLY LINKED LIST"
   ]
  },
  {
   "cell_type": "code",
   "execution_count": 22,
   "metadata": {},
   "outputs": [],
   "source": [
    "class Node:\n",
    "    def __init__(self,data):\n",
    "        self.data=data\n",
    "        self.next = None\n",
    "class LinkedList:\n",
    "    def __init__(self):\n",
    "        self.head=None\n",
    "        \n",
    "    def printList(self):\n",
    "        header= self.head\n",
    "        while(header!=None):\n",
    "            print(header.data)\n",
    "            header= header.next\n",
    "    def insertAtEnd(self,data):\n",
    "        header= self.head\n",
    "        if header!=None:\n",
    "            while(header.next!=None):\n",
    "                header= header.next\n",
    "            header.next=Node(data)\n",
    "        else:\n",
    "            self.head=Node(data)\n",
    "        return self.head\n",
    "    def insertAtStart(self,data):\n",
    "        header = Node(data)\n",
    "        header.next=self.head\n",
    "        self.head=header\n",
    "        return self.head\n",
    "    def insertAfter(self,prevdata,data):\n",
    "        header = self.head\n",
    "        while(header.data != prevdata):\n",
    "            header = header.next\n",
    "        nextdat = header.next\n",
    "        current = Node(data)\n",
    "        header.next = current\n",
    "        current.next=nextdat\n",
    "        return self.head\n",
    "    def deleteAtEnd(self):\n",
    "        header = self.head\n",
    "        while(header.next!=None):\n",
    "            prev = header\n",
    "            header=header.next\n",
    "        prev.next=None\n",
    "        return self.head\n",
    "    def deleteAtStart(self):\n",
    "        header = self.head\n",
    "        self.head=header.next\n",
    "        return self.head\n",
    "    def deleteTheNode(self,data):\n",
    "        header=self.head\n",
    "        while(header.data!=data):\n",
    "            prev = header\n",
    "            header = header.next\n",
    "        nexval = header.next\n",
    "        prev.next = nexval\n",
    "        return self.head\n",
    "    \n",
    "        \n",
    "        \n",
    "        \n",
    "    \n",
    "        \n",
    "    \n",
    "        \n",
    "\n"
   ]
  },
  {
   "cell_type": "code",
   "execution_count": 23,
   "metadata": {},
   "outputs": [
    {
     "name": "stdout",
     "output_type": "stream",
     "text": [
      "1: orange\n",
      "1: green\n",
      "1: blue\n",
      "1: pink\n",
      "1: red\n",
      "orange\n",
      "green\n",
      "blue\n",
      "pink\n",
      "red\n"
     ]
    }
   ],
   "source": [
    "l=LinkedList()\n",
    "for i in range(5):\n",
    "    x=input(\"1: \")\n",
    "    l.insertAtEnd(x)\n",
    "l.printList()\n",
    "    \n",
    "    "
   ]
  },
  {
   "cell_type": "code",
   "execution_count": 13,
   "metadata": {},
   "outputs": [
    {
     "name": "stdout",
     "output_type": "stream",
     "text": [
      "1: girl\n",
      "1: fish\n",
      "1: dig\n",
      "1: well\n",
      "1: sea\n",
      "sea\n",
      "well\n",
      "dig\n",
      "fish\n",
      "girl\n",
      "ant\n",
      "cat\n",
      "man\n",
      "dog\n",
      "boy\n"
     ]
    }
   ],
   "source": [
    "for i in range(5):\n",
    "    x=input(\"1: \")\n",
    "    l.insertAtStart(x)\n",
    "l.printList()"
   ]
  },
  {
   "cell_type": "code",
   "execution_count": 24,
   "metadata": {},
   "outputs": [
    {
     "name": "stdout",
     "output_type": "stream",
     "text": [
      "orange\n",
      "green\n",
      "blue\n",
      "pink\n",
      "red\n"
     ]
    }
   ],
   "source": [
    "l.printList()"
   ]
  },
  {
   "cell_type": "code",
   "execution_count": 25,
   "metadata": {},
   "outputs": [
    {
     "data": {
      "text/plain": [
       "<__main__.Node at 0x2809a5316a0>"
      ]
     },
     "execution_count": 25,
     "metadata": {},
     "output_type": "execute_result"
    }
   ],
   "source": [
    "l.deleteAtEnd()\n"
   ]
  },
  {
   "cell_type": "code",
   "execution_count": 26,
   "metadata": {},
   "outputs": [
    {
     "name": "stdout",
     "output_type": "stream",
     "text": [
      "orange\n",
      "green\n",
      "blue\n",
      "pink\n"
     ]
    }
   ],
   "source": [
    "l.printList()"
   ]
  },
  {
   "cell_type": "code",
   "execution_count": 27,
   "metadata": {},
   "outputs": [
    {
     "data": {
      "text/plain": [
       "<__main__.Node at 0x2809a54bbb0>"
      ]
     },
     "execution_count": 27,
     "metadata": {},
     "output_type": "execute_result"
    }
   ],
   "source": [
    "l.deleteAtStart()"
   ]
  },
  {
   "cell_type": "code",
   "execution_count": 28,
   "metadata": {},
   "outputs": [
    {
     "name": "stdout",
     "output_type": "stream",
     "text": [
      "green\n",
      "blue\n",
      "pink\n"
     ]
    }
   ],
   "source": [
    "l.printList()"
   ]
  },
  {
   "cell_type": "code",
   "execution_count": 29,
   "metadata": {},
   "outputs": [
    {
     "data": {
      "text/plain": [
       "<__main__.Node at 0x2809a54bbb0>"
      ]
     },
     "execution_count": 29,
     "metadata": {},
     "output_type": "execute_result"
    }
   ],
   "source": [
    "l.insertAfter(\"blue\",\"black\")"
   ]
  },
  {
   "cell_type": "code",
   "execution_count": 30,
   "metadata": {},
   "outputs": [
    {
     "name": "stdout",
     "output_type": "stream",
     "text": [
      "green\n",
      "blue\n",
      "black\n",
      "pink\n"
     ]
    }
   ],
   "source": [
    "l.printList()"
   ]
  },
  {
   "cell_type": "code",
   "execution_count": 31,
   "metadata": {},
   "outputs": [
    {
     "data": {
      "text/plain": [
       "<__main__.Node at 0x2809a54bbb0>"
      ]
     },
     "execution_count": 31,
     "metadata": {},
     "output_type": "execute_result"
    }
   ],
   "source": [
    "l.deleteTheNode(\"blue\")"
   ]
  },
  {
   "cell_type": "code",
   "execution_count": 32,
   "metadata": {},
   "outputs": [
    {
     "name": "stdout",
     "output_type": "stream",
     "text": [
      "green\n",
      "black\n",
      "pink\n"
     ]
    }
   ],
   "source": [
    "l.printList()"
   ]
  },
  {
   "cell_type": "code",
   "execution_count": null,
   "metadata": {},
   "outputs": [],
   "source": []
  }
 ],
 "metadata": {
  "kernelspec": {
   "display_name": "Python 3",
   "language": "python",
   "name": "python3"
  },
  "language_info": {
   "codemirror_mode": {
    "name": "ipython",
    "version": 3
   },
   "file_extension": ".py",
   "mimetype": "text/x-python",
   "name": "python",
   "nbconvert_exporter": "python",
   "pygments_lexer": "ipython3",
   "version": "3.8.5"
  }
 },
 "nbformat": 4,
 "nbformat_minor": 4
}
