{
 "cells": [
  {
   "cell_type": "markdown",
   "metadata": {},
   "source": [
    "# DOUBLE LINKEDLIST"
   ]
  },
  {
   "cell_type": "code",
   "execution_count": 17,
   "metadata": {},
   "outputs": [],
   "source": [
    "class Node:\n",
    "    def __init__(self,data):\n",
    "        self.data=data\n",
    "        self.next=None\n",
    "        self.prev=None\n",
    "class DlinkedList:\n",
    "    def __init__(self):\n",
    "        self.head=None\n",
    "    def insertAtEnd(self,data):\n",
    "        header = self.head\n",
    "        if(header!=None):\n",
    "            while(header.next!=None):\n",
    "                header=header.next\n",
    "            current = Node(data)\n",
    "            header.next=current\n",
    "            current.prev = header\n",
    "        else:\n",
    "            self.head =Node(data)\n",
    "        return self.head\n",
    "    def insertAtBegining(self,data):\n",
    "        current=Node(data)\n",
    "        if(self.head==None):\n",
    "            self.head= current\n",
    "        else:\n",
    "            self.head.prev =current\n",
    "            current.next=self.head\n",
    "            self.head= current\n",
    "        return self.head\n",
    "    def insertInBetween(self,after,data):\n",
    "        current=Node(data)\n",
    "        header=self.head\n",
    "        while(header.data!=after):\n",
    "            header=header.next\n",
    "        current.next = header.next\n",
    "        current.prev =header\n",
    "        header.next.prev = current\n",
    "        header.next = current\n",
    "        return self.head\n",
    "    def printFromHead(self):\n",
    "        header =self.head\n",
    "        while(header!=None):\n",
    "            print(header.data)\n",
    "            header=header.next\n",
    "    def printFromTail(self):\n",
    "        header=self.head\n",
    "        while(header.next!=None):\n",
    "            header=header.next\n",
    "        while(header!=None):\n",
    "            print(header.data)\n",
    "            header = header.prev\n",
    "    def deleteAtEnd(self):\n",
    "        header= self.head\n",
    "        while(header.next!=None):\n",
    "            header=header.next\n",
    "        prev = header.prev\n",
    "        prev.next = None\n",
    "        return self.head\n",
    "    def  deleteAtHead(self):\n",
    "        header =self.head.next\n",
    "        header.prev=None\n",
    "        self.head  =  header\n",
    "        return self.head\n",
    "    def deleteNode(self,data):\n",
    "        header = self.head\n",
    "        while(header.data!=data):\n",
    "            header=header.next\n",
    "        prev=header.prev\n",
    "        prev.next=header.next\n",
    "        nexti =header.next\n",
    "        nexti.prev=prev\n",
    "        return self.head\n",
    "    \n",
    "        \n",
    "        \n",
    "        "
   ]
  },
  {
   "cell_type": "code",
   "execution_count": 18,
   "metadata": {},
   "outputs": [],
   "source": [
    "l=DlinkedList()\n"
   ]
  },
  {
   "cell_type": "code",
   "execution_count": 20,
   "metadata": {},
   "outputs": [
    {
     "name": "stdout",
     "output_type": "stream",
     "text": [
      "1: men\n",
      "1: man\n",
      "1: boy\n",
      "1: kid\n",
      "1: car\n",
      "men\n",
      "man\n",
      "boy\n",
      "kid\n",
      "car\n"
     ]
    }
   ],
   "source": [
    "for i in range(5):\n",
    "    x=input(\"1: \")\n",
    "    l.insertAtEnd(x)\n",
    "l.printFromHead()"
   ]
  },
  {
   "cell_type": "code",
   "execution_count": 21,
   "metadata": {},
   "outputs": [
    {
     "name": "stdout",
     "output_type": "stream",
     "text": [
      "car\n",
      "kid\n",
      "boy\n",
      "man\n",
      "men\n"
     ]
    }
   ],
   "source": [
    "l.printFromTail()"
   ]
  },
  {
   "cell_type": "code",
   "execution_count": 22,
   "metadata": {},
   "outputs": [
    {
     "name": "stdout",
     "output_type": "stream",
     "text": [
      "1: ran\n",
      "1: swim\n",
      "1: cycle\n",
      "1: bike\n",
      "1: ride\n",
      "ride\n",
      "bike\n",
      "cycle\n",
      "swim\n",
      "ran\n",
      "men\n",
      "man\n",
      "boy\n",
      "kid\n",
      "car\n"
     ]
    }
   ],
   "source": [
    "for i in range(5):\n",
    "    x=input(\"1: \")\n",
    "    l.insertAtBegining(x)\n",
    "l.printFromHead()"
   ]
  },
  {
   "cell_type": "code",
   "execution_count": 23,
   "metadata": {},
   "outputs": [
    {
     "data": {
      "text/plain": [
       "<__main__.Node at 0x20f9b047c70>"
      ]
     },
     "execution_count": 23,
     "metadata": {},
     "output_type": "execute_result"
    }
   ],
   "source": [
    "l.insertInBetween(\"man\",\"baby\")"
   ]
  },
  {
   "cell_type": "code",
   "execution_count": 24,
   "metadata": {},
   "outputs": [
    {
     "name": "stdout",
     "output_type": "stream",
     "text": [
      "ride\n",
      "bike\n",
      "cycle\n",
      "swim\n",
      "ran\n",
      "men\n",
      "man\n",
      "baby\n",
      "boy\n",
      "kid\n",
      "car\n"
     ]
    }
   ],
   "source": [
    "l.printFromHead()"
   ]
  },
  {
   "cell_type": "code",
   "execution_count": 25,
   "metadata": {},
   "outputs": [
    {
     "data": {
      "text/plain": [
       "<__main__.Node at 0x20f9b047c70>"
      ]
     },
     "execution_count": 25,
     "metadata": {},
     "output_type": "execute_result"
    }
   ],
   "source": [
    "l.deleteAtEnd()"
   ]
  },
  {
   "cell_type": "code",
   "execution_count": 26,
   "metadata": {},
   "outputs": [
    {
     "name": "stdout",
     "output_type": "stream",
     "text": [
      "ride\n",
      "bike\n",
      "cycle\n",
      "swim\n",
      "ran\n",
      "men\n",
      "man\n",
      "baby\n",
      "boy\n",
      "kid\n"
     ]
    }
   ],
   "source": [
    "l.printFromHead()"
   ]
  },
  {
   "cell_type": "code",
   "execution_count": 27,
   "metadata": {},
   "outputs": [
    {
     "name": "stdout",
     "output_type": "stream",
     "text": [
      "bike\n",
      "cycle\n",
      "swim\n",
      "ran\n",
      "men\n",
      "man\n",
      "baby\n",
      "boy\n",
      "kid\n"
     ]
    }
   ],
   "source": [
    "l.deleteAtHead()\n",
    "l.printFromHead()"
   ]
  },
  {
   "cell_type": "code",
   "execution_count": 28,
   "metadata": {},
   "outputs": [
    {
     "data": {
      "text/plain": [
       "<__main__.Node at 0x20f9b047190>"
      ]
     },
     "execution_count": 28,
     "metadata": {},
     "output_type": "execute_result"
    }
   ],
   "source": [
    "l.deleteNode(\"ran\")"
   ]
  },
  {
   "cell_type": "code",
   "execution_count": 29,
   "metadata": {},
   "outputs": [
    {
     "name": "stdout",
     "output_type": "stream",
     "text": [
      "bike\n",
      "cycle\n",
      "swim\n",
      "men\n",
      "man\n",
      "baby\n",
      "boy\n",
      "kid\n"
     ]
    }
   ],
   "source": [
    "l.printFromHead()"
   ]
  },
  {
   "cell_type": "code",
   "execution_count": null,
   "metadata": {},
   "outputs": [],
   "source": []
  }
 ],
 "metadata": {
  "kernelspec": {
   "display_name": "Python 3",
   "language": "python",
   "name": "python3"
  },
  "language_info": {
   "codemirror_mode": {
    "name": "ipython",
    "version": 3
   },
   "file_extension": ".py",
   "mimetype": "text/x-python",
   "name": "python",
   "nbconvert_exporter": "python",
   "pygments_lexer": "ipython3",
   "version": "3.8.5"
  }
 },
 "nbformat": 4,
 "nbformat_minor": 4
}
